{
 "cells": [
  {
   "cell_type": "code",
   "execution_count": 7,
   "id": "ba760299-9fb9-47a6-9bde-82de806d73eb",
   "metadata": {},
   "outputs": [
    {
     "name": "stdout",
     "output_type": "stream",
     "text": [
      "Accuracy: 0.9931818181818182\n"
     ]
    },
    {
     "name": "stdin",
     "output_type": "stream",
     "text": [
      "Enter nitrogen content (N):  56\n",
      "Enter phosphorus content (P):  24\n",
      "Enter potassium content (K):  69\n",
      "Enter temperature:  30.2\n",
      "Enter humidity:  54\n",
      "Enter pH:  44\n",
      "Enter rainfall:  10\n"
     ]
    },
    {
     "name": "stdout",
     "output_type": "stream",
     "text": [
      "Predicted crop: ['muskmelon']\n"
     ]
    }
   ],
   "source": [
    "import pandas as pd\n",
    "from sklearn.model_selection import train_test_split\n",
    "from sklearn.ensemble import RandomForestClassifier\n",
    "import warnings\n",
    "warnings.filterwarnings(\"ignore\")\n",
    "# Load the CSV file into a Pandas DataFrame\n",
    "data = pd.read_csv('Crop_recommendation.csv')\n",
    "\n",
    "# Separate the features and target variables\n",
    "X = data[['N', 'P', 'K', 'temperature', 'humidity', 'ph', 'rainfall']]\n",
    "y = data['label']\n",
    "\n",
    "# Split the data into training and testing sets\n",
    "X_train, X_test, y_train, y_test = train_test_split(X, y, test_size=0.2, random_state=42)\n",
    "\n",
    "# Create a RandomForestClassifier object\n",
    "rf = RandomForestClassifier(n_estimators=100, random_state=0)\n",
    "\n",
    "# Train the RandomForestClassifier model\n",
    "rf.fit(X_train, y_train)\n",
    "\n",
    "# Make predictions on the test data\n",
    "y_pred = rf.predict(X_test)\n",
    "\n",
    "# Evaluate the model's performance\n",
    "from sklearn.metrics import accuracy_score\n",
    "\n",
    "accuracy = accuracy_score(y_test, y_pred)\n",
    "print(\"Accuracy:\", accuracy)\n",
    "\n",
    "nitrogen = float(input(\"Enter nitrogen content (N): \"))\n",
    "phosphorus = float(input(\"Enter phosphorus content (P): \"))\n",
    "potassium = float(input(\"Enter potassium content (K): \"))\n",
    "temperature = float(input(\"Enter temperature: \"))\n",
    "humidity = float(input(\"Enter humidity: \"))\n",
    "ph = float(input(\"Enter pH: \"))\n",
    "rainfall = float(input(\"Enter rainfall: \"))\n",
    "\n",
    "# Create a new data point based on user input\n",
    "new_data = [[nitrogen, phosphorus, potassium, temperature, humidity, ph, rainfall]]\n",
    "\n",
    "# Make a prediction for the new data\n",
    "prediction = rf.predict(new_data)\n",
    "print(\"Predicted crop:\", prediction)"
   ]
  },
  {
   "cell_type": "code",
   "execution_count": null,
   "id": "ac600bd0-b5d2-4bd1-b2a9-78dec8fe14a9",
   "metadata": {},
   "outputs": [],
   "source": []
  },
  {
   "cell_type": "code",
   "execution_count": null,
   "id": "729e8591-7e89-4f42-9059-d9a4ab3bf53f",
   "metadata": {},
   "outputs": [],
   "source": []
  }
 ],
 "metadata": {
  "kernelspec": {
   "display_name": "Python 3 (ipykernel)",
   "language": "python",
   "name": "python3"
  },
  "language_info": {
   "codemirror_mode": {
    "name": "ipython",
    "version": 3
   },
   "file_extension": ".py",
   "mimetype": "text/x-python",
   "name": "python",
   "nbconvert_exporter": "python",
   "pygments_lexer": "ipython3",
   "version": "3.12.0"
  }
 },
 "nbformat": 4,
 "nbformat_minor": 5
}
